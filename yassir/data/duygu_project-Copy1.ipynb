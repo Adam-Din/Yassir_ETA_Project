{
 "cells": [
  {
   "cell_type": "code",
   "execution_count": 15,
   "id": "d30fa395",
   "metadata": {},
   "outputs": [],
   "source": [
    "import pandas as pd\n",
    "import numpy as np\n",
    "import matplotlib.pyplot as plt\n",
    "\n",
    "import matplotlib.image as mpimg\n",
    "import seaborn as sns\n"
   ]
  },
  {
   "cell_type": "code",
   "execution_count": null,
   "id": "61164cc5",
   "metadata": {},
   "outputs": [],
   "source": [
    "####Load DATA"
   ]
  },
  {
   "cell_type": "code",
   "execution_count": 2,
   "id": "1fe17031",
   "metadata": {},
   "outputs": [
    {
     "data": {
      "text/html": [
       "<div>\n",
       "<style scoped>\n",
       "    .dataframe tbody tr th:only-of-type {\n",
       "        vertical-align: middle;\n",
       "    }\n",
       "\n",
       "    .dataframe tbody tr th {\n",
       "        vertical-align: top;\n",
       "    }\n",
       "\n",
       "    .dataframe thead th {\n",
       "        text-align: right;\n",
       "    }\n",
       "</style>\n",
       "<table border=\"1\" class=\"dataframe\">\n",
       "  <thead>\n",
       "    <tr style=\"text-align: right;\">\n",
       "      <th></th>\n",
       "      <th>Timestamp</th>\n",
       "      <th>Origin_lat</th>\n",
       "      <th>Origin_lon</th>\n",
       "      <th>Destination_lat</th>\n",
       "      <th>Destination_lon</th>\n",
       "      <th>Trip_distance</th>\n",
       "      <th>ETA</th>\n",
       "    </tr>\n",
       "    <tr>\n",
       "      <th>ID</th>\n",
       "      <th></th>\n",
       "      <th></th>\n",
       "      <th></th>\n",
       "      <th></th>\n",
       "      <th></th>\n",
       "      <th></th>\n",
       "      <th></th>\n",
       "    </tr>\n",
       "  </thead>\n",
       "  <tbody>\n",
       "    <tr>\n",
       "      <th>000FLWA8</th>\n",
       "      <td>2019-12-04 20:01:50+00:00</td>\n",
       "      <td>3.258</td>\n",
       "      <td>36.777</td>\n",
       "      <td>3.003</td>\n",
       "      <td>36.718</td>\n",
       "      <td>39627</td>\n",
       "      <td>2784</td>\n",
       "    </tr>\n",
       "    <tr>\n",
       "      <th>000RGOAM</th>\n",
       "      <td>2019-12-10 22:37:09+00:00</td>\n",
       "      <td>3.087</td>\n",
       "      <td>36.707</td>\n",
       "      <td>3.081</td>\n",
       "      <td>36.727</td>\n",
       "      <td>3918</td>\n",
       "      <td>576</td>\n",
       "    </tr>\n",
       "    <tr>\n",
       "      <th>001QSGIH</th>\n",
       "      <td>2019-11-23 20:36:10+00:00</td>\n",
       "      <td>3.144</td>\n",
       "      <td>36.739</td>\n",
       "      <td>3.088</td>\n",
       "      <td>36.742</td>\n",
       "      <td>7265</td>\n",
       "      <td>526</td>\n",
       "    </tr>\n",
       "    <tr>\n",
       "      <th>002ACV6R</th>\n",
       "      <td>2019-12-01 05:43:21+00:00</td>\n",
       "      <td>3.239</td>\n",
       "      <td>36.784</td>\n",
       "      <td>3.054</td>\n",
       "      <td>36.763</td>\n",
       "      <td>23350</td>\n",
       "      <td>3130</td>\n",
       "    </tr>\n",
       "    <tr>\n",
       "      <th>0039Y7A8</th>\n",
       "      <td>2019-12-17 20:30:20+00:00</td>\n",
       "      <td>2.912</td>\n",
       "      <td>36.707</td>\n",
       "      <td>3.207</td>\n",
       "      <td>36.698</td>\n",
       "      <td>36613</td>\n",
       "      <td>2138</td>\n",
       "    </tr>\n",
       "  </tbody>\n",
       "</table>\n",
       "</div>"
      ],
      "text/plain": [
       "                         Timestamp  Origin_lat  Origin_lon  Destination_lat  \\\n",
       "ID                                                                            \n",
       "000FLWA8 2019-12-04 20:01:50+00:00       3.258      36.777            3.003   \n",
       "000RGOAM 2019-12-10 22:37:09+00:00       3.087      36.707            3.081   \n",
       "001QSGIH 2019-11-23 20:36:10+00:00       3.144      36.739            3.088   \n",
       "002ACV6R 2019-12-01 05:43:21+00:00       3.239      36.784            3.054   \n",
       "0039Y7A8 2019-12-17 20:30:20+00:00       2.912      36.707            3.207   \n",
       "\n",
       "          Destination_lon  Trip_distance   ETA  \n",
       "ID                                              \n",
       "000FLWA8           36.718          39627  2784  \n",
       "000RGOAM           36.727           3918   576  \n",
       "001QSGIH           36.742           7265   526  \n",
       "002ACV6R           36.763          23350  3130  \n",
       "0039Y7A8           36.698          36613  2138  "
      ]
     },
     "execution_count": 2,
     "metadata": {},
     "output_type": "execute_result"
    }
   ],
   "source": [
    "training = pd.read_csv('/Users/Duygu/Desktop/yassir/data/Train.csv').set_index('ID')\n",
    "training['Timestamp'] = pd.to_datetime(training['Timestamp'])\n",
    "training.head()\n",
    "\n"
   ]
  },
  {
   "cell_type": "code",
   "execution_count": 3,
   "id": "d854d33b",
   "metadata": {},
   "outputs": [
    {
     "data": {
      "text/html": [
       "<div>\n",
       "<style scoped>\n",
       "    .dataframe tbody tr th:only-of-type {\n",
       "        vertical-align: middle;\n",
       "    }\n",
       "\n",
       "    .dataframe tbody tr th {\n",
       "        vertical-align: top;\n",
       "    }\n",
       "\n",
       "    .dataframe thead th {\n",
       "        text-align: right;\n",
       "    }\n",
       "</style>\n",
       "<table border=\"1\" class=\"dataframe\">\n",
       "  <thead>\n",
       "    <tr style=\"text-align: right;\">\n",
       "      <th></th>\n",
       "      <th>Timestamp</th>\n",
       "      <th>Origin_lat</th>\n",
       "      <th>Origin_lon</th>\n",
       "      <th>Destination_lat</th>\n",
       "      <th>Destination_lon</th>\n",
       "      <th>Trip_distance</th>\n",
       "    </tr>\n",
       "    <tr>\n",
       "      <th>ID</th>\n",
       "      <th></th>\n",
       "      <th></th>\n",
       "      <th></th>\n",
       "      <th></th>\n",
       "      <th></th>\n",
       "      <th></th>\n",
       "    </tr>\n",
       "  </thead>\n",
       "  <tbody>\n",
       "    <tr>\n",
       "      <th>000V4BQX</th>\n",
       "      <td>2019-12-21 05:52:37+00:00</td>\n",
       "      <td>2.981</td>\n",
       "      <td>36.688</td>\n",
       "      <td>2.978</td>\n",
       "      <td>36.754</td>\n",
       "      <td>17549</td>\n",
       "    </tr>\n",
       "    <tr>\n",
       "      <th>003WBC5J</th>\n",
       "      <td>2019-12-25 21:38:53+00:00</td>\n",
       "      <td>3.032</td>\n",
       "      <td>36.769</td>\n",
       "      <td>3.074</td>\n",
       "      <td>36.751</td>\n",
       "      <td>7532</td>\n",
       "    </tr>\n",
       "    <tr>\n",
       "      <th>004O4X3A</th>\n",
       "      <td>2019-12-29 21:30:29+00:00</td>\n",
       "      <td>3.035</td>\n",
       "      <td>36.711</td>\n",
       "      <td>3.010</td>\n",
       "      <td>36.758</td>\n",
       "      <td>10194</td>\n",
       "    </tr>\n",
       "    <tr>\n",
       "      <th>006CEI5B</th>\n",
       "      <td>2019-12-31 22:51:57+00:00</td>\n",
       "      <td>2.902</td>\n",
       "      <td>36.738</td>\n",
       "      <td>3.208</td>\n",
       "      <td>36.698</td>\n",
       "      <td>32768</td>\n",
       "    </tr>\n",
       "    <tr>\n",
       "      <th>009G0M2T</th>\n",
       "      <td>2019-12-28 21:47:22+00:00</td>\n",
       "      <td>2.860</td>\n",
       "      <td>36.692</td>\n",
       "      <td>2.828</td>\n",
       "      <td>36.696</td>\n",
       "      <td>4513</td>\n",
       "    </tr>\n",
       "  </tbody>\n",
       "</table>\n",
       "</div>"
      ],
      "text/plain": [
       "                         Timestamp  Origin_lat  Origin_lon  Destination_lat  \\\n",
       "ID                                                                            \n",
       "000V4BQX 2019-12-21 05:52:37+00:00       2.981      36.688            2.978   \n",
       "003WBC5J 2019-12-25 21:38:53+00:00       3.032      36.769            3.074   \n",
       "004O4X3A 2019-12-29 21:30:29+00:00       3.035      36.711            3.010   \n",
       "006CEI5B 2019-12-31 22:51:57+00:00       2.902      36.738            3.208   \n",
       "009G0M2T 2019-12-28 21:47:22+00:00       2.860      36.692            2.828   \n",
       "\n",
       "          Destination_lon  Trip_distance  \n",
       "ID                                        \n",
       "000V4BQX           36.754          17549  \n",
       "003WBC5J           36.751           7532  \n",
       "004O4X3A           36.758          10194  \n",
       "006CEI5B           36.698          32768  \n",
       "009G0M2T           36.696           4513  "
      ]
     },
     "execution_count": 3,
     "metadata": {},
     "output_type": "execute_result"
    }
   ],
   "source": [
    "testing = pd.read_csv('/Users/Duygu/Desktop/yassir/data/Test.csv').set_index('ID')\n",
    "testing['Timestamp'] = pd.to_datetime(testing['Timestamp'])\n",
    "testing.head()"
   ]
  },
  {
   "cell_type": "code",
   "execution_count": 4,
   "id": "546f1fd3",
   "metadata": {},
   "outputs": [
    {
     "data": {
      "text/html": [
       "<div>\n",
       "<style scoped>\n",
       "    .dataframe tbody tr th:only-of-type {\n",
       "        vertical-align: middle;\n",
       "    }\n",
       "\n",
       "    .dataframe tbody tr th {\n",
       "        vertical-align: top;\n",
       "    }\n",
       "\n",
       "    .dataframe thead th {\n",
       "        text-align: right;\n",
       "    }\n",
       "</style>\n",
       "<table border=\"1\" class=\"dataframe\">\n",
       "  <thead>\n",
       "    <tr style=\"text-align: right;\">\n",
       "      <th></th>\n",
       "      <th>Timestamp</th>\n",
       "      <th>Origin_lat</th>\n",
       "      <th>Origin_lon</th>\n",
       "      <th>Destination_lat</th>\n",
       "      <th>Destination_lon</th>\n",
       "      <th>Trip_distance</th>\n",
       "      <th>ETA</th>\n",
       "      <th>test</th>\n",
       "      <th>speed</th>\n",
       "    </tr>\n",
       "    <tr>\n",
       "      <th>ID</th>\n",
       "      <th></th>\n",
       "      <th></th>\n",
       "      <th></th>\n",
       "      <th></th>\n",
       "      <th></th>\n",
       "      <th></th>\n",
       "      <th></th>\n",
       "      <th></th>\n",
       "      <th></th>\n",
       "    </tr>\n",
       "  </thead>\n",
       "  <tbody>\n",
       "    <tr>\n",
       "      <th>000FLWA8</th>\n",
       "      <td>2019-12-04 20:01:50+00:00</td>\n",
       "      <td>3.258</td>\n",
       "      <td>36.777</td>\n",
       "      <td>3.003</td>\n",
       "      <td>36.718</td>\n",
       "      <td>39627</td>\n",
       "      <td>2784.0</td>\n",
       "      <td>False</td>\n",
       "      <td>51.241810</td>\n",
       "    </tr>\n",
       "    <tr>\n",
       "      <th>000RGOAM</th>\n",
       "      <td>2019-12-10 22:37:09+00:00</td>\n",
       "      <td>3.087</td>\n",
       "      <td>36.707</td>\n",
       "      <td>3.081</td>\n",
       "      <td>36.727</td>\n",
       "      <td>3918</td>\n",
       "      <td>576.0</td>\n",
       "      <td>False</td>\n",
       "      <td>24.487500</td>\n",
       "    </tr>\n",
       "    <tr>\n",
       "      <th>001QSGIH</th>\n",
       "      <td>2019-11-23 20:36:10+00:00</td>\n",
       "      <td>3.144</td>\n",
       "      <td>36.739</td>\n",
       "      <td>3.088</td>\n",
       "      <td>36.742</td>\n",
       "      <td>7265</td>\n",
       "      <td>526.0</td>\n",
       "      <td>False</td>\n",
       "      <td>49.722433</td>\n",
       "    </tr>\n",
       "    <tr>\n",
       "      <th>002ACV6R</th>\n",
       "      <td>2019-12-01 05:43:21+00:00</td>\n",
       "      <td>3.239</td>\n",
       "      <td>36.784</td>\n",
       "      <td>3.054</td>\n",
       "      <td>36.763</td>\n",
       "      <td>23350</td>\n",
       "      <td>3130.0</td>\n",
       "      <td>False</td>\n",
       "      <td>26.856230</td>\n",
       "    </tr>\n",
       "    <tr>\n",
       "      <th>0039Y7A8</th>\n",
       "      <td>2019-12-17 20:30:20+00:00</td>\n",
       "      <td>2.912</td>\n",
       "      <td>36.707</td>\n",
       "      <td>3.207</td>\n",
       "      <td>36.698</td>\n",
       "      <td>36613</td>\n",
       "      <td>2138.0</td>\n",
       "      <td>False</td>\n",
       "      <td>61.649579</td>\n",
       "    </tr>\n",
       "  </tbody>\n",
       "</table>\n",
       "</div>"
      ],
      "text/plain": [
       "                         Timestamp  Origin_lat  Origin_lon  Destination_lat  \\\n",
       "ID                                                                            \n",
       "000FLWA8 2019-12-04 20:01:50+00:00       3.258      36.777            3.003   \n",
       "000RGOAM 2019-12-10 22:37:09+00:00       3.087      36.707            3.081   \n",
       "001QSGIH 2019-11-23 20:36:10+00:00       3.144      36.739            3.088   \n",
       "002ACV6R 2019-12-01 05:43:21+00:00       3.239      36.784            3.054   \n",
       "0039Y7A8 2019-12-17 20:30:20+00:00       2.912      36.707            3.207   \n",
       "\n",
       "          Destination_lon  Trip_distance     ETA   test      speed  \n",
       "ID                                                                  \n",
       "000FLWA8           36.718          39627  2784.0  False  51.241810  \n",
       "000RGOAM           36.727           3918   576.0  False  24.487500  \n",
       "001QSGIH           36.742           7265   526.0  False  49.722433  \n",
       "002ACV6R           36.763          23350  3130.0  False  26.856230  \n",
       "0039Y7A8           36.698          36613  2138.0  False  61.649579  "
      ]
     },
     "execution_count": 4,
     "metadata": {},
     "output_type": "execute_result"
    }
   ],
   "source": [
    "##feature engineering\n",
    "testing['test']=True\n",
    "training['test']=False\n",
    "\n",
    "testing=training.append(testing)\n",
    "testing[\"speed\"]=testing.apply(lambda x : (x[\"Trip_distance\"] / x['ETA'] )* (3.6) if x['test']==False else None,axis=\"columns\")\n",
    "testing.head()"
   ]
  },
  {
   "cell_type": "code",
   "execution_count": 5,
   "id": "d97b6c00",
   "metadata": {},
   "outputs": [],
   "source": [
    "##clean and organize data\n",
    "testing = testing.drop_duplicates()\n",
    "\n",
    "clean  = (testing.test==False) & (  (testing.speed>100)|  (testing.ETA<10 )   | ( testing.Trip_distance<1 | ( (testing.Trip_distance<1 )  & (testing.ETA < 60) )   ) )\n",
    "\n",
    "\n",
    "a = testing.drop(testing[clean].index)\n",
    "\n"
   ]
  },
  {
   "cell_type": "code",
   "execution_count": 6,
   "id": "cdb358cd",
   "metadata": {},
   "outputs": [
    {
     "data": {
      "text/plain": [
       "35545"
      ]
     },
     "execution_count": 6,
     "metadata": {},
     "output_type": "execute_result"
    }
   ],
   "source": [
    "a['ETA'].isna().sum()"
   ]
  },
  {
   "cell_type": "code",
   "execution_count": 8,
   "id": "91e098fb",
   "metadata": {},
   "outputs": [],
   "source": [
    "a.dropna(subset = [\"ETA\"], inplace=True)\n",
    "\n",
    "\n",
    "##a['ETA'].fillna(value=a['ETA'].mean(), inplace=True)\n",
    "##a['speed'].fillna(value=a['speed'].mean(), inplace=True)"
   ]
  },
  {
   "cell_type": "code",
   "execution_count": 9,
   "id": "bbd2dbca",
   "metadata": {},
   "outputs": [],
   "source": [
    "a.dropna(subset = [\"speed\"], inplace=True)"
   ]
  },
  {
   "cell_type": "code",
   "execution_count": 10,
   "id": "907ced31",
   "metadata": {},
   "outputs": [
    {
     "data": {
      "text/html": [
       "<div>\n",
       "<style scoped>\n",
       "    .dataframe tbody tr th:only-of-type {\n",
       "        vertical-align: middle;\n",
       "    }\n",
       "\n",
       "    .dataframe tbody tr th {\n",
       "        vertical-align: top;\n",
       "    }\n",
       "\n",
       "    .dataframe thead th {\n",
       "        text-align: right;\n",
       "    }\n",
       "</style>\n",
       "<table border=\"1\" class=\"dataframe\">\n",
       "  <thead>\n",
       "    <tr style=\"text-align: right;\">\n",
       "      <th></th>\n",
       "      <th>Timestamp</th>\n",
       "      <th>Origin_lat</th>\n",
       "      <th>Origin_lon</th>\n",
       "      <th>Destination_lat</th>\n",
       "      <th>Destination_lon</th>\n",
       "      <th>Trip_distance</th>\n",
       "      <th>ETA</th>\n",
       "      <th>test</th>\n",
       "      <th>speed</th>\n",
       "    </tr>\n",
       "    <tr>\n",
       "      <th>ID</th>\n",
       "      <th></th>\n",
       "      <th></th>\n",
       "      <th></th>\n",
       "      <th></th>\n",
       "      <th></th>\n",
       "      <th></th>\n",
       "      <th></th>\n",
       "      <th></th>\n",
       "      <th></th>\n",
       "    </tr>\n",
       "  </thead>\n",
       "  <tbody>\n",
       "    <tr>\n",
       "      <th>000FLWA8</th>\n",
       "      <td>2019-12-04 20:01:50+00:00</td>\n",
       "      <td>3.258</td>\n",
       "      <td>36.777</td>\n",
       "      <td>3.003</td>\n",
       "      <td>36.718</td>\n",
       "      <td>39627</td>\n",
       "      <td>2784.0</td>\n",
       "      <td>False</td>\n",
       "      <td>51.241810</td>\n",
       "    </tr>\n",
       "    <tr>\n",
       "      <th>000RGOAM</th>\n",
       "      <td>2019-12-10 22:37:09+00:00</td>\n",
       "      <td>3.087</td>\n",
       "      <td>36.707</td>\n",
       "      <td>3.081</td>\n",
       "      <td>36.727</td>\n",
       "      <td>3918</td>\n",
       "      <td>576.0</td>\n",
       "      <td>False</td>\n",
       "      <td>24.487500</td>\n",
       "    </tr>\n",
       "    <tr>\n",
       "      <th>001QSGIH</th>\n",
       "      <td>2019-11-23 20:36:10+00:00</td>\n",
       "      <td>3.144</td>\n",
       "      <td>36.739</td>\n",
       "      <td>3.088</td>\n",
       "      <td>36.742</td>\n",
       "      <td>7265</td>\n",
       "      <td>526.0</td>\n",
       "      <td>False</td>\n",
       "      <td>49.722433</td>\n",
       "    </tr>\n",
       "    <tr>\n",
       "      <th>002ACV6R</th>\n",
       "      <td>2019-12-01 05:43:21+00:00</td>\n",
       "      <td>3.239</td>\n",
       "      <td>36.784</td>\n",
       "      <td>3.054</td>\n",
       "      <td>36.763</td>\n",
       "      <td>23350</td>\n",
       "      <td>3130.0</td>\n",
       "      <td>False</td>\n",
       "      <td>26.856230</td>\n",
       "    </tr>\n",
       "    <tr>\n",
       "      <th>0039Y7A8</th>\n",
       "      <td>2019-12-17 20:30:20+00:00</td>\n",
       "      <td>2.912</td>\n",
       "      <td>36.707</td>\n",
       "      <td>3.207</td>\n",
       "      <td>36.698</td>\n",
       "      <td>36613</td>\n",
       "      <td>2138.0</td>\n",
       "      <td>False</td>\n",
       "      <td>61.649579</td>\n",
       "    </tr>\n",
       "    <tr>\n",
       "      <th>...</th>\n",
       "      <td>...</td>\n",
       "      <td>...</td>\n",
       "      <td>...</td>\n",
       "      <td>...</td>\n",
       "      <td>...</td>\n",
       "      <td>...</td>\n",
       "      <td>...</td>\n",
       "      <td>...</td>\n",
       "      <td>...</td>\n",
       "    </tr>\n",
       "    <tr>\n",
       "      <th>ZZXN4JH2</th>\n",
       "      <td>2019-11-30 23:21:58+00:00</td>\n",
       "      <td>3.121</td>\n",
       "      <td>36.743</td>\n",
       "      <td>3.032</td>\n",
       "      <td>36.770</td>\n",
       "      <td>10321</td>\n",
       "      <td>664.0</td>\n",
       "      <td>False</td>\n",
       "      <td>55.957229</td>\n",
       "    </tr>\n",
       "    <tr>\n",
       "      <th>ZZXQ5AQJ</th>\n",
       "      <td>2019-11-27 05:59:31+00:00</td>\n",
       "      <td>3.024</td>\n",
       "      <td>36.749</td>\n",
       "      <td>2.951</td>\n",
       "      <td>36.735</td>\n",
       "      <td>10791</td>\n",
       "      <td>1056.0</td>\n",
       "      <td>False</td>\n",
       "      <td>36.787500</td>\n",
       "    </tr>\n",
       "    <tr>\n",
       "      <th>ZZXYPKGU</th>\n",
       "      <td>2019-12-06 05:04:06+00:00</td>\n",
       "      <td>3.189</td>\n",
       "      <td>36.721</td>\n",
       "      <td>3.186</td>\n",
       "      <td>36.721</td>\n",
       "      <td>1139</td>\n",
       "      <td>296.0</td>\n",
       "      <td>False</td>\n",
       "      <td>13.852703</td>\n",
       "    </tr>\n",
       "    <tr>\n",
       "      <th>ZZYTQHKT</th>\n",
       "      <td>2019-12-07 05:55:22+00:00</td>\n",
       "      <td>3.046</td>\n",
       "      <td>36.738</td>\n",
       "      <td>2.986</td>\n",
       "      <td>36.766</td>\n",
       "      <td>10637</td>\n",
       "      <td>895.0</td>\n",
       "      <td>False</td>\n",
       "      <td>42.785698</td>\n",
       "    </tr>\n",
       "    <tr>\n",
       "      <th>ZZZY11ZN</th>\n",
       "      <td>2019-12-12 21:22:31+00:00</td>\n",
       "      <td>2.889</td>\n",
       "      <td>36.762</td>\n",
       "      <td>2.957</td>\n",
       "      <td>36.758</td>\n",
       "      <td>9363</td>\n",
       "      <td>654.0</td>\n",
       "      <td>False</td>\n",
       "      <td>51.539450</td>\n",
       "    </tr>\n",
       "  </tbody>\n",
       "</table>\n",
       "<p>83552 rows × 9 columns</p>\n",
       "</div>"
      ],
      "text/plain": [
       "                         Timestamp  Origin_lat  Origin_lon  Destination_lat  \\\n",
       "ID                                                                            \n",
       "000FLWA8 2019-12-04 20:01:50+00:00       3.258      36.777            3.003   \n",
       "000RGOAM 2019-12-10 22:37:09+00:00       3.087      36.707            3.081   \n",
       "001QSGIH 2019-11-23 20:36:10+00:00       3.144      36.739            3.088   \n",
       "002ACV6R 2019-12-01 05:43:21+00:00       3.239      36.784            3.054   \n",
       "0039Y7A8 2019-12-17 20:30:20+00:00       2.912      36.707            3.207   \n",
       "...                            ...         ...         ...              ...   \n",
       "ZZXN4JH2 2019-11-30 23:21:58+00:00       3.121      36.743            3.032   \n",
       "ZZXQ5AQJ 2019-11-27 05:59:31+00:00       3.024      36.749            2.951   \n",
       "ZZXYPKGU 2019-12-06 05:04:06+00:00       3.189      36.721            3.186   \n",
       "ZZYTQHKT 2019-12-07 05:55:22+00:00       3.046      36.738            2.986   \n",
       "ZZZY11ZN 2019-12-12 21:22:31+00:00       2.889      36.762            2.957   \n",
       "\n",
       "          Destination_lon  Trip_distance     ETA   test      speed  \n",
       "ID                                                                  \n",
       "000FLWA8           36.718          39627  2784.0  False  51.241810  \n",
       "000RGOAM           36.727           3918   576.0  False  24.487500  \n",
       "001QSGIH           36.742           7265   526.0  False  49.722433  \n",
       "002ACV6R           36.763          23350  3130.0  False  26.856230  \n",
       "0039Y7A8           36.698          36613  2138.0  False  61.649579  \n",
       "...                   ...            ...     ...    ...        ...  \n",
       "ZZXN4JH2           36.770          10321   664.0  False  55.957229  \n",
       "ZZXQ5AQJ           36.735          10791  1056.0  False  36.787500  \n",
       "ZZXYPKGU           36.721           1139   296.0  False  13.852703  \n",
       "ZZYTQHKT           36.766          10637   895.0  False  42.785698  \n",
       "ZZZY11ZN           36.758           9363   654.0  False  51.539450  \n",
       "\n",
       "[83552 rows x 9 columns]"
      ]
     },
     "execution_count": 10,
     "metadata": {},
     "output_type": "execute_result"
    }
   ],
   "source": [
    "a"
   ]
  },
  {
   "cell_type": "code",
   "execution_count": 11,
   "id": "70576d69",
   "metadata": {},
   "outputs": [],
   "source": [
    "\n",
    "a['speed category']=pd.cut(a['speed'], bins=[0, 20, 60, 89], include_lowest=True, labels=['low', 'mid', 'high'])"
   ]
  },
  {
   "cell_type": "code",
   "execution_count": 12,
   "id": "2aea0a93",
   "metadata": {},
   "outputs": [],
   "source": [
    "a['distance category']=pd.cut(a['Trip_distance'], bins=[0, 10000, 30000, 62028], include_lowest=True, labels=['close', 'mid', 'far'])\n"
   ]
  },
  {
   "cell_type": "code",
   "execution_count": null,
   "id": "16264e69",
   "metadata": {},
   "outputs": [],
   "source": []
  },
  {
   "cell_type": "code",
   "execution_count": 18,
   "id": "fc9e7a8a",
   "metadata": {},
   "outputs": [
    {
     "data": {
      "text/plain": [
       "<AxesSubplot:title={'center':'Does'}, xlabel='Trip_distance', ylabel='ETA'>"
      ]
     },
     "execution_count": 18,
     "metadata": {},
     "output_type": "execute_result"
    },
    {
     "data": {
      "image/png": "[encoded data removed]",
      "text/plain": [
       "<Figure size 432x288 with 1 Axes>"
      ]
     },
     "metadata": {
      "needs_background": "light"
     },
     "output_type": "display_data"
    }
   ],
   "source": [
    "\n",
    "a.plot.scatter(x='Trip_distance', y='ETA', title='Does')\n"
   ]
  },
  {
   "cell_type": "code",
   "execution_count": 20,
   "id": "1982f2e3",
   "metadata": {},
   "outputs": [
    {
     "data": {
      "text/plain": [
       "<seaborn.axisgrid.FacetGrid at 0x7ff5d2a262b0>"
      ]
     },
     "execution_count": 20,
     "metadata": {},
     "output_type": "execute_result"
    },
    {
     "data": {
      "image/png": "[encoded data removed]",
      "text/plain": [
       "<Figure size 360x360 with 1 Axes>"
      ]
     },
     "metadata": {
      "needs_background": "light"
     },
     "output_type": "display_data"
    }
   ],
   "source": [
    "sns.lmplot(data=a, x='Trip_distance', y='speed')"
   ]
  },
  {
   "cell_type": "code",
   "execution_count": 24,
   "id": "1fbca3c2",
   "metadata": {},
   "outputs": [
    {
     "data": {
      "text/plain": [
       "<seaborn.axisgrid.FacetGrid at 0x7ff5d2a36790>"
      ]
     },
     "execution_count": 24,
     "metadata": {},
     "output_type": "execute_result"
    },
    {
     "data": {
      "image/png": "[encoded data removed]",
      "text/plain": [
       "<Figure size 360x360 with 1 Axes>"
      ]
     },
     "metadata": {
      "needs_background": "light"
     },
     "output_type": "display_data"
    }
   ],
   "source": [
    "sns.catplot(x=\"distance category\", y=\"speed\",  data=a, kind=\"bar\")"
   ]
  },
  {
   "cell_type": "code",
   "execution_count": 30,
   "id": "bea39261",
   "metadata": {},
   "outputs": [],
   "source": [
    "##fg = sns.FacetGrid(a, hue=\"ETA\", aspect=2, palette=\"BuPu_d\")\n",
    "##fg.map(sns.kdeplot, \"speed\", shade=True)\n",
    "##fg.set(xlim=(0, 90));\n",
    "##plt.legend()"
   ]
  },
  {
   "cell_type": "code",
   "execution_count": 35,
   "id": "eb5db382",
   "metadata": {},
   "outputs": [],
   "source": [
    "##comparison = a.speed.value_counts().index\n",
    "##g = sns.FacetGrid(a, row=\"speed\", row_order=comparison)\n",
    "##g.map(sns.kdeplot, \"ETA\")"
   ]
  },
  {
   "cell_type": "code",
   "execution_count": 41,
   "id": "acde9fcd",
   "metadata": {},
   "outputs": [
    {
     "data": {
      "image/png": "[encoded data removed]",
      "text/plain": [
       "<Figure size 432x288 with 1 Axes>"
      ]
     },
     "metadata": {
      "needs_background": "light"
     },
     "output_type": "display_data"
    }
   ],
   "source": [
    "plt.plot(a[\"speed\"], a[\"ETA\"], color='red', marker='o')\n",
    "plt.title('ETA Vs Speed', fontsize=14)\n",
    "plt.xlabel('Speed', fontsize=14)\n",
    "plt.ylabel('ETA', fontsize=14)\n",
    "plt.grid(True)\n",
    "plt.show()"
   ]
  }
 ],
 "metadata": {
  "kernelspec": {
   "display_name": "Python 3",
   "language": "python",
   "name": "python3"
  },
  "language_info": {
   "codemirror_mode": {
    "name": "ipython",
    "version": 3
   },
   "file_extension": ".py",
   "mimetype": "text/x-python",
   "name": "python",
   "nbconvert_exporter": "python",
   "pygments_lexer": "ipython3",
   "version": "3.8.8"
  }
 },
 "nbformat": 4,
 "nbformat_minor": 5
}
